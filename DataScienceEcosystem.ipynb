{
 "cells": [
  {
   "cell_type": "markdown",
   "id": "59ca812d-3046-4b99-b13e-93137b070337",
   "metadata": {},
   "source": [
    "# Data Science Tools and Ecosystem"
   ]
  },
  {
   "cell_type": "markdown",
   "id": "e59bb5c9-3872-4ad2-ac2b-35020b9b9ba8",
   "metadata": {},
   "source": [
    "**Objectives:**\n",
    "\n",
    "* List popular languages for Data Science.\n",
    "* List popular libraries for Data Science.\n",
    "* List popular tools for Data Science.\n",
    "* Examples of evaluating arithmetic expressions in Python."
   ]
  },
  {
   "cell_type": "markdown",
   "id": "5ab18f46-41b6-4619-b914-69c1e87c9f39",
   "metadata": {},
   "source": [
    "## In this notebook, Data Science Tools and Ecosystem are summerized. "
   ]
  },
  {
   "cell_type": "markdown",
   "id": "da94f090-986e-44ae-9bf7-0a4e540673ee",
   "metadata": {},
   "source": [
    "#### Some of the popular languages that Data Scientists use are:\n",
    "1. Python\n",
    "2. R\n",
    "3. Scala"
   ]
  },
  {
   "cell_type": "markdown",
   "id": "3dc45a4c-3522-421a-98ef-5fb362ea0f92",
   "metadata": {},
   "source": [
    "#### Some of the commonly used libraries used by Data Scientists include:\n",
    "1. Numpy\n",
    "2. Pandas\n",
    "3. Matplotlib"
   ]
  },
  {
   "cell_type": "markdown",
   "id": "ab7b29c9-75b0-4c83-b157-c1e709f6ff29",
   "metadata": {},
   "source": [
    "| Data Science Tools |\n",
    "| ----------------- |\n",
    "| Jupyter Notebook  |\n",
    "| RStudio           |\n",
    "| Visual Studio Code|\n"
   ]
  },
  {
   "cell_type": "markdown",
   "id": "bfa22550-a599-4948-a064-133c32e1f9da",
   "metadata": {},
   "source": [
    "### Below are a few examples of evaluating arithmetic expressions in Python."
   ]
  },
  {
   "cell_type": "code",
   "execution_count": 3,
   "id": "3b3d1369-3255-4378-8a65-e3243e4fc8db",
   "metadata": {},
   "outputs": [
    {
     "data": {
      "text/plain": [
       "17"
      ]
     },
     "execution_count": 3,
     "metadata": {},
     "output_type": "execute_result"
    }
   ],
   "source": [
    "(3*4)+5\n",
    "# This a simple arithmetic expression to mutiply then add integers."
   ]
  },
  {
   "cell_type": "code",
   "execution_count": 4,
   "id": "0a9258e5-8930-4039-85fb-aa0c356b5902",
   "metadata": {},
   "outputs": [
    {
     "data": {
      "text/plain": [
       "3.3333333333333335"
      ]
     },
     "execution_count": 4,
     "metadata": {},
     "output_type": "execute_result"
    }
   ],
   "source": [
    "200/60\n",
    "# This will convert 200 minutes to hours by diving by 60."
   ]
  },
  {
   "cell_type": "markdown",
   "id": "00fa2216-eb62-4c7d-b038-6b4659d41503",
   "metadata": {},
   "source": [
    "## Author \n",
    "Ameer AbuGharbiah"
   ]
  }
 ],
 "metadata": {
  "kernelspec": {
   "display_name": "Python 3 (ipykernel)",
   "language": "python",
   "name": "python3"
  },
  "language_info": {
   "codemirror_mode": {
    "name": "ipython",
    "version": 3
   },
   "file_extension": ".py",
   "mimetype": "text/x-python",
   "name": "python",
   "nbconvert_exporter": "python",
   "pygments_lexer": "ipython3",
   "version": "3.9.13"
  }
 },
 "nbformat": 4,
 "nbformat_minor": 5
}
